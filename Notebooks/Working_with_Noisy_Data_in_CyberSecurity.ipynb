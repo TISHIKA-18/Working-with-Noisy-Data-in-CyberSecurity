{
  "nbformat": 4,
  "nbformat_minor": 0,
  "metadata": {
    "colab": {
      "provenance": []
    },
    "kernelspec": {
      "name": "python3",
      "display_name": "Python 3"
    },
    "language_info": {
      "name": "python"
    }
  },
  "cells": [
    {
      "cell_type": "markdown",
      "source": [
        "##**Key Challenges in the UNSW-NB15 Dataset**\n",
        "1. Noisy Data: Irrelevant information, inconsistent formatting, and duplicate records make it difficult for machine learning models to distinguish between normal and malicious traffic.\n",
        "2. Missing Data: Some rows may contain missing or incomplete data, which must be handled carefully to avoid degrading model performance.\n",
        "3. Imbalanced Data: The dataset has a large proportion of normal traffic compared to malicious activity. This imbalance can bias models toward classifying traffic as normal, missing the minority-class attacks."
      ],
      "metadata": {
        "id": "qlulnF9UlYi_"
      }
    },
    {
      "cell_type": "markdown",
      "source": [
        "##**Step 1: Cleaning and Preprocessing the Data**\n",
        "###1.1. Handling Missing Data\n",
        "\n",
        "Missing data is a frequent issue in cybersecurity datasets. In the UNSW-NB15 dataset, certain fields such as attack references or source/destination ports may be incomplete. A simple yet effective approach to handle missing data is using forward and backward filling."
      ],
      "metadata": {
        "id": "LmykdhsvliTX"
      }
    },
    {
      "cell_type": "code",
      "execution_count": null,
      "metadata": {
        "colab": {
          "base_uri": "https://localhost:8080/"
        },
        "id": "buO_az0IlNvV",
        "outputId": "a3553c07-8b54-446e-ab6d-c9dde0e90d43"
      },
      "outputs": [
        {
          "output_type": "stream",
          "name": "stdout",
          "text": [
            "     Start time     Last time Attack category   Attack subcategory Protocol  \\\n",
            "0  1.421927e+09  1.421927e+09  Reconnaissance                 HTTP      tcp   \n",
            "1  1.421927e+09  1.421927e+09        Exploits     Unix 'r' Service      udp   \n",
            "2  1.421927e+09  1.421927e+09        Exploits              Browser      tcp   \n",
            "3  1.421927e+09  1.421927e+09        Exploits  Miscellaneous Batch      tcp   \n",
            "4  1.421927e+09  1.421927e+09        Exploits           Cisco IOS       tcp   \n",
            "\n",
            "      Source IP  Source Port  Destination IP  Destination Port  \\\n",
            "0  175.45.176.0      13284.0  149.171.126.16              80.0   \n",
            "1  175.45.176.3      21223.0  149.171.126.18           32780.0   \n",
            "2  175.45.176.2      23357.0  149.171.126.16              80.0   \n",
            "3  175.45.176.2      13792.0  149.171.126.16            5555.0   \n",
            "4  175.45.176.2      26939.0  149.171.126.10              80.0   \n",
            "\n",
            "                                         Attack Name  \\\n",
            "0  Domino Web Server Database Access: /doladmin.n...   \n",
            "1  Solaris rwalld Format String Vulnerability (ht...   \n",
            "2  Windows Metafile (WMF) SetAbortProc() Code Exe...   \n",
            "3  HP Data Protector Backup (https://strikecenter...   \n",
            "4  Cisco IOS HTTP Authentication Bypass Level 64 ...   \n",
            "\n",
            "                                    Attack Reference  .  \n",
            "0                                                  -  .  \n",
            "1  CVE 2002-0573 (http://cve.mitre.org/cgi-bin/cv...  .  \n",
            "2  CVE 2005-4560 (http://cve.mitre.org/cgi-bin/cv...  .  \n",
            "3  CVE 2011-1729 (http://cve.mitre.org/cgi-bin/cv...  .  \n",
            "4  CVE 2001-0537 (http://cve.mitre.org/cgi-bin/cv...  .  \n"
          ]
        }
      ],
      "source": [
        "import pandas as pd\n",
        "\n",
        "# Load the dataset\n",
        "df = pd.read_csv('/content/NUSW-NB15_GT(in).csv')\n",
        "print(df.head())"
      ]
    },
    {
      "cell_type": "code",
      "source": [
        "df.shape"
      ],
      "metadata": {
        "colab": {
          "base_uri": "https://localhost:8080/"
        },
        "id": "kW0HeLs7Rb8j",
        "outputId": "19924cf9-1655-4ce6-f2a4-c44833e1e2b4"
      },
      "execution_count": null,
      "outputs": [
        {
          "output_type": "execute_result",
          "data": {
            "text/plain": [
              "(174348, 12)"
            ]
          },
          "metadata": {},
          "execution_count": 2
        }
      ]
    },
    {
      "cell_type": "code",
      "source": [
        "df.info()"
      ],
      "metadata": {
        "colab": {
          "base_uri": "https://localhost:8080/"
        },
        "id": "L3VdeQlWRb_e",
        "outputId": "675d8177-f406-4e23-d44a-34fbd30ebc08"
      },
      "execution_count": null,
      "outputs": [
        {
          "output_type": "stream",
          "name": "stdout",
          "text": [
            "<class 'pandas.core.frame.DataFrame'>\n",
            "RangeIndex: 174348 entries, 0 to 174347\n",
            "Data columns (total 12 columns):\n",
            " #   Column              Non-Null Count   Dtype  \n",
            "---  ------              --------------   -----  \n",
            " 0   Start time          174347 non-null  float64\n",
            " 1   Last time           174347 non-null  float64\n",
            " 2   Attack category     174348 non-null  object \n",
            " 3   Attack subcategory  170250 non-null  object \n",
            " 4   Protocol            174347 non-null  object \n",
            " 5   Source IP           174347 non-null  object \n",
            " 6   Source Port         174347 non-null  float64\n",
            " 7   Destination IP      174347 non-null  object \n",
            " 8   Destination Port    174347 non-null  float64\n",
            " 9   Attack Name         174346 non-null  object \n",
            " 10  Attack Reference    123709 non-null  object \n",
            " 11  .                   174346 non-null  object \n",
            "dtypes: float64(4), object(8)\n",
            "memory usage: 16.0+ MB\n"
          ]
        }
      ]
    },
    {
      "cell_type": "code",
      "source": [
        "df.describe()"
      ],
      "metadata": {
        "colab": {
          "base_uri": "https://localhost:8080/",
          "height": 300
        },
        "id": "CB97O0RrRcCt",
        "outputId": "ba574f8c-760d-4963-d4f0-d3397f082710"
      },
      "execution_count": null,
      "outputs": [
        {
          "output_type": "execute_result",
          "data": {
            "text/plain": [
              "         Start time     Last time    Source Port  Destination Port\n",
              "count  1.743470e+05  1.743470e+05  174347.000000     174347.000000\n",
              "mean   1.424045e+09  1.424045e+09   15390.600710       1304.554526\n",
              "std    6.435399e+05  6.435402e+05   21707.638236       7465.911059\n",
              "min    1.421927e+09  1.421927e+09       0.000000          0.000000\n",
              "25%    1.424229e+09  1.424229e+09       0.000000          0.000000\n",
              "50%    1.424238e+09  1.424238e+09       0.000000          0.000000\n",
              "75%    1.424252e+09  1.424252e+09   31855.500000         80.000000\n",
              "max    1.424262e+09  1.424262e+09   65535.000000      65535.000000"
            ],
            "text/html": [
              "\n",
              "  <div id=\"df-e813db5e-151d-4c83-9618-ceb734d12885\" class=\"colab-df-container\">\n",
              "    <div>\n",
              "<style scoped>\n",
              "    .dataframe tbody tr th:only-of-type {\n",
              "        vertical-align: middle;\n",
              "    }\n",
              "\n",
              "    .dataframe tbody tr th {\n",
              "        vertical-align: top;\n",
              "    }\n",
              "\n",
              "    .dataframe thead th {\n",
              "        text-align: right;\n",
              "    }\n",
              "</style>\n",
              "<table border=\"1\" class=\"dataframe\">\n",
              "  <thead>\n",
              "    <tr style=\"text-align: right;\">\n",
              "      <th></th>\n",
              "      <th>Start time</th>\n",
              "      <th>Last time</th>\n",
              "      <th>Source Port</th>\n",
              "      <th>Destination Port</th>\n",
              "    </tr>\n",
              "  </thead>\n",
              "  <tbody>\n",
              "    <tr>\n",
              "      <th>count</th>\n",
              "      <td>1.743470e+05</td>\n",
              "      <td>1.743470e+05</td>\n",
              "      <td>174347.000000</td>\n",
              "      <td>174347.000000</td>\n",
              "    </tr>\n",
              "    <tr>\n",
              "      <th>mean</th>\n",
              "      <td>1.424045e+09</td>\n",
              "      <td>1.424045e+09</td>\n",
              "      <td>15390.600710</td>\n",
              "      <td>1304.554526</td>\n",
              "    </tr>\n",
              "    <tr>\n",
              "      <th>std</th>\n",
              "      <td>6.435399e+05</td>\n",
              "      <td>6.435402e+05</td>\n",
              "      <td>21707.638236</td>\n",
              "      <td>7465.911059</td>\n",
              "    </tr>\n",
              "    <tr>\n",
              "      <th>min</th>\n",
              "      <td>1.421927e+09</td>\n",
              "      <td>1.421927e+09</td>\n",
              "      <td>0.000000</td>\n",
              "      <td>0.000000</td>\n",
              "    </tr>\n",
              "    <tr>\n",
              "      <th>25%</th>\n",
              "      <td>1.424229e+09</td>\n",
              "      <td>1.424229e+09</td>\n",
              "      <td>0.000000</td>\n",
              "      <td>0.000000</td>\n",
              "    </tr>\n",
              "    <tr>\n",
              "      <th>50%</th>\n",
              "      <td>1.424238e+09</td>\n",
              "      <td>1.424238e+09</td>\n",
              "      <td>0.000000</td>\n",
              "      <td>0.000000</td>\n",
              "    </tr>\n",
              "    <tr>\n",
              "      <th>75%</th>\n",
              "      <td>1.424252e+09</td>\n",
              "      <td>1.424252e+09</td>\n",
              "      <td>31855.500000</td>\n",
              "      <td>80.000000</td>\n",
              "    </tr>\n",
              "    <tr>\n",
              "      <th>max</th>\n",
              "      <td>1.424262e+09</td>\n",
              "      <td>1.424262e+09</td>\n",
              "      <td>65535.000000</td>\n",
              "      <td>65535.000000</td>\n",
              "    </tr>\n",
              "  </tbody>\n",
              "</table>\n",
              "</div>\n",
              "    <div class=\"colab-df-buttons\">\n",
              "\n",
              "  <div class=\"colab-df-container\">\n",
              "    <button class=\"colab-df-convert\" onclick=\"convertToInteractive('df-e813db5e-151d-4c83-9618-ceb734d12885')\"\n",
              "            title=\"Convert this dataframe to an interactive table.\"\n",
              "            style=\"display:none;\">\n",
              "\n",
              "  <svg xmlns=\"http://www.w3.org/2000/svg\" height=\"24px\" viewBox=\"0 -960 960 960\">\n",
              "    <path d=\"M120-120v-720h720v720H120Zm60-500h600v-160H180v160Zm220 220h160v-160H400v160Zm0 220h160v-160H400v160ZM180-400h160v-160H180v160Zm440 0h160v-160H620v160ZM180-180h160v-160H180v160Zm440 0h160v-160H620v160Z\"/>\n",
              "  </svg>\n",
              "    </button>\n",
              "\n",
              "  <style>\n",
              "    .colab-df-container {\n",
              "      display:flex;\n",
              "      gap: 12px;\n",
              "    }\n",
              "\n",
              "    .colab-df-convert {\n",
              "      background-color: #E8F0FE;\n",
              "      border: none;\n",
              "      border-radius: 50%;\n",
              "      cursor: pointer;\n",
              "      display: none;\n",
              "      fill: #1967D2;\n",
              "      height: 32px;\n",
              "      padding: 0 0 0 0;\n",
              "      width: 32px;\n",
              "    }\n",
              "\n",
              "    .colab-df-convert:hover {\n",
              "      background-color: #E2EBFA;\n",
              "      box-shadow: 0px 1px 2px rgba(60, 64, 67, 0.3), 0px 1px 3px 1px rgba(60, 64, 67, 0.15);\n",
              "      fill: #174EA6;\n",
              "    }\n",
              "\n",
              "    .colab-df-buttons div {\n",
              "      margin-bottom: 4px;\n",
              "    }\n",
              "\n",
              "    [theme=dark] .colab-df-convert {\n",
              "      background-color: #3B4455;\n",
              "      fill: #D2E3FC;\n",
              "    }\n",
              "\n",
              "    [theme=dark] .colab-df-convert:hover {\n",
              "      background-color: #434B5C;\n",
              "      box-shadow: 0px 1px 3px 1px rgba(0, 0, 0, 0.15);\n",
              "      filter: drop-shadow(0px 1px 2px rgba(0, 0, 0, 0.3));\n",
              "      fill: #FFFFFF;\n",
              "    }\n",
              "  </style>\n",
              "\n",
              "    <script>\n",
              "      const buttonEl =\n",
              "        document.querySelector('#df-e813db5e-151d-4c83-9618-ceb734d12885 button.colab-df-convert');\n",
              "      buttonEl.style.display =\n",
              "        google.colab.kernel.accessAllowed ? 'block' : 'none';\n",
              "\n",
              "      async function convertToInteractive(key) {\n",
              "        const element = document.querySelector('#df-e813db5e-151d-4c83-9618-ceb734d12885');\n",
              "        const dataTable =\n",
              "          await google.colab.kernel.invokeFunction('convertToInteractive',\n",
              "                                                    [key], {});\n",
              "        if (!dataTable) return;\n",
              "\n",
              "        const docLinkHtml = 'Like what you see? Visit the ' +\n",
              "          '<a target=\"_blank\" href=https://colab.research.google.com/notebooks/data_table.ipynb>data table notebook</a>'\n",
              "          + ' to learn more about interactive tables.';\n",
              "        element.innerHTML = '';\n",
              "        dataTable['output_type'] = 'display_data';\n",
              "        await google.colab.output.renderOutput(dataTable, element);\n",
              "        const docLink = document.createElement('div');\n",
              "        docLink.innerHTML = docLinkHtml;\n",
              "        element.appendChild(docLink);\n",
              "      }\n",
              "    </script>\n",
              "  </div>\n",
              "\n",
              "\n",
              "<div id=\"df-9d0100e6-52f3-414e-ae19-32b87805e2fd\">\n",
              "  <button class=\"colab-df-quickchart\" onclick=\"quickchart('df-9d0100e6-52f3-414e-ae19-32b87805e2fd')\"\n",
              "            title=\"Suggest charts\"\n",
              "            style=\"display:none;\">\n",
              "\n",
              "<svg xmlns=\"http://www.w3.org/2000/svg\" height=\"24px\"viewBox=\"0 0 24 24\"\n",
              "     width=\"24px\">\n",
              "    <g>\n",
              "        <path d=\"M19 3H5c-1.1 0-2 .9-2 2v14c0 1.1.9 2 2 2h14c1.1 0 2-.9 2-2V5c0-1.1-.9-2-2-2zM9 17H7v-7h2v7zm4 0h-2V7h2v10zm4 0h-2v-4h2v4z\"/>\n",
              "    </g>\n",
              "</svg>\n",
              "  </button>\n",
              "\n",
              "<style>\n",
              "  .colab-df-quickchart {\n",
              "      --bg-color: #E8F0FE;\n",
              "      --fill-color: #1967D2;\n",
              "      --hover-bg-color: #E2EBFA;\n",
              "      --hover-fill-color: #174EA6;\n",
              "      --disabled-fill-color: #AAA;\n",
              "      --disabled-bg-color: #DDD;\n",
              "  }\n",
              "\n",
              "  [theme=dark] .colab-df-quickchart {\n",
              "      --bg-color: #3B4455;\n",
              "      --fill-color: #D2E3FC;\n",
              "      --hover-bg-color: #434B5C;\n",
              "      --hover-fill-color: #FFFFFF;\n",
              "      --disabled-bg-color: #3B4455;\n",
              "      --disabled-fill-color: #666;\n",
              "  }\n",
              "\n",
              "  .colab-df-quickchart {\n",
              "    background-color: var(--bg-color);\n",
              "    border: none;\n",
              "    border-radius: 50%;\n",
              "    cursor: pointer;\n",
              "    display: none;\n",
              "    fill: var(--fill-color);\n",
              "    height: 32px;\n",
              "    padding: 0;\n",
              "    width: 32px;\n",
              "  }\n",
              "\n",
              "  .colab-df-quickchart:hover {\n",
              "    background-color: var(--hover-bg-color);\n",
              "    box-shadow: 0 1px 2px rgba(60, 64, 67, 0.3), 0 1px 3px 1px rgba(60, 64, 67, 0.15);\n",
              "    fill: var(--button-hover-fill-color);\n",
              "  }\n",
              "\n",
              "  .colab-df-quickchart-complete:disabled,\n",
              "  .colab-df-quickchart-complete:disabled:hover {\n",
              "    background-color: var(--disabled-bg-color);\n",
              "    fill: var(--disabled-fill-color);\n",
              "    box-shadow: none;\n",
              "  }\n",
              "\n",
              "  .colab-df-spinner {\n",
              "    border: 2px solid var(--fill-color);\n",
              "    border-color: transparent;\n",
              "    border-bottom-color: var(--fill-color);\n",
              "    animation:\n",
              "      spin 1s steps(1) infinite;\n",
              "  }\n",
              "\n",
              "  @keyframes spin {\n",
              "    0% {\n",
              "      border-color: transparent;\n",
              "      border-bottom-color: var(--fill-color);\n",
              "      border-left-color: var(--fill-color);\n",
              "    }\n",
              "    20% {\n",
              "      border-color: transparent;\n",
              "      border-left-color: var(--fill-color);\n",
              "      border-top-color: var(--fill-color);\n",
              "    }\n",
              "    30% {\n",
              "      border-color: transparent;\n",
              "      border-left-color: var(--fill-color);\n",
              "      border-top-color: var(--fill-color);\n",
              "      border-right-color: var(--fill-color);\n",
              "    }\n",
              "    40% {\n",
              "      border-color: transparent;\n",
              "      border-right-color: var(--fill-color);\n",
              "      border-top-color: var(--fill-color);\n",
              "    }\n",
              "    60% {\n",
              "      border-color: transparent;\n",
              "      border-right-color: var(--fill-color);\n",
              "    }\n",
              "    80% {\n",
              "      border-color: transparent;\n",
              "      border-right-color: var(--fill-color);\n",
              "      border-bottom-color: var(--fill-color);\n",
              "    }\n",
              "    90% {\n",
              "      border-color: transparent;\n",
              "      border-bottom-color: var(--fill-color);\n",
              "    }\n",
              "  }\n",
              "</style>\n",
              "\n",
              "  <script>\n",
              "    async function quickchart(key) {\n",
              "      const quickchartButtonEl =\n",
              "        document.querySelector('#' + key + ' button');\n",
              "      quickchartButtonEl.disabled = true;  // To prevent multiple clicks.\n",
              "      quickchartButtonEl.classList.add('colab-df-spinner');\n",
              "      try {\n",
              "        const charts = await google.colab.kernel.invokeFunction(\n",
              "            'suggestCharts', [key], {});\n",
              "      } catch (error) {\n",
              "        console.error('Error during call to suggestCharts:', error);\n",
              "      }\n",
              "      quickchartButtonEl.classList.remove('colab-df-spinner');\n",
              "      quickchartButtonEl.classList.add('colab-df-quickchart-complete');\n",
              "    }\n",
              "    (() => {\n",
              "      let quickchartButtonEl =\n",
              "        document.querySelector('#df-9d0100e6-52f3-414e-ae19-32b87805e2fd button');\n",
              "      quickchartButtonEl.style.display =\n",
              "        google.colab.kernel.accessAllowed ? 'block' : 'none';\n",
              "    })();\n",
              "  </script>\n",
              "</div>\n",
              "\n",
              "    </div>\n",
              "  </div>\n"
            ],
            "application/vnd.google.colaboratory.intrinsic+json": {
              "type": "dataframe",
              "summary": "{\n  \"name\": \"df\",\n  \"rows\": 8,\n  \"fields\": [\n    {\n      \"column\": \"Start time\",\n      \"properties\": {\n        \"dtype\": \"number\",\n        \"std\": 658914309.2933142,\n        \"min\": 174347.0,\n        \"max\": 1424262068.0,\n        \"num_unique_values\": 8,\n        \"samples\": [\n          1424045452.9375155,\n          1424237544.0,\n          174347.0\n        ],\n        \"semantic_type\": \"\",\n        \"description\": \"\"\n      }\n    },\n    {\n      \"column\": \"Last time\",\n      \"properties\": {\n        \"dtype\": \"number\",\n        \"std\": 658914309.7828655,\n        \"min\": 174347.0,\n        \"max\": 1424262069.0,\n        \"num_unique_values\": 8,\n        \"samples\": [\n          1424045455.2796204,\n          1424237544.0,\n          174347.0\n        ],\n        \"semantic_type\": \"\",\n        \"description\": \"\"\n      }\n    },\n    {\n      \"column\": \"Source Port\",\n      \"properties\": {\n        \"dtype\": \"number\",\n        \"std\": 59151.3053303247,\n        \"min\": 0.0,\n        \"max\": 174347.0,\n        \"num_unique_values\": 6,\n        \"samples\": [\n          174347.0,\n          15390.600710078177,\n          65535.0\n        ],\n        \"semantic_type\": \"\",\n        \"description\": \"\"\n      }\n    },\n    {\n      \"column\": \"Destination Port\",\n      \"properties\": {\n        \"dtype\": \"number\",\n        \"std\": 62123.93235062437,\n        \"min\": 0.0,\n        \"max\": 174347.0,\n        \"num_unique_values\": 6,\n        \"samples\": [\n          174347.0,\n          1304.5545263182046,\n          65535.0\n        ],\n        \"semantic_type\": \"\",\n        \"description\": \"\"\n      }\n    }\n  ]\n}"
            }
          },
          "metadata": {},
          "execution_count": 4
        }
      ]
    },
    {
      "cell_type": "code",
      "source": [
        "# Check for missing values\n",
        "print(df.isnull().sum())"
      ],
      "metadata": {
        "colab": {
          "base_uri": "https://localhost:8080/"
        },
        "id": "laX3TCzqRcHL",
        "outputId": "84faeb31-1c4b-48e2-a12d-c492a755ab9b"
      },
      "execution_count": null,
      "outputs": [
        {
          "output_type": "stream",
          "name": "stdout",
          "text": [
            "Start time                1\n",
            "Last time                 1\n",
            "Attack category           0\n",
            "Attack subcategory     4098\n",
            "Protocol                  1\n",
            "Source IP                 1\n",
            "Source Port               1\n",
            "Destination IP            1\n",
            "Destination Port          1\n",
            "Attack Name               2\n",
            "Attack Reference      50639\n",
            ".                         2\n",
            "dtype: int64\n"
          ]
        }
      ]
    },
    {
      "cell_type": "code",
      "source": [
        "# Fill missing values using forward fill, followed by backward fill\n",
        "df.fillna(method='ffill', inplace=True)\n",
        "df.fillna(method='bfill', inplace=True)"
      ],
      "metadata": {
        "colab": {
          "base_uri": "https://localhost:8080/"
        },
        "id": "_7ptcKXjRcJ1",
        "outputId": "9d327ab8-718c-44ff-8498-46fa88abd61e"
      },
      "execution_count": null,
      "outputs": [
        {
          "output_type": "stream",
          "name": "stderr",
          "text": [
            "<ipython-input-6-67b6ba888a01>:2: FutureWarning: DataFrame.fillna with 'method' is deprecated and will raise in a future version. Use obj.ffill() or obj.bfill() instead.\n",
            "  df.fillna(method='ffill', inplace=True)\n",
            "<ipython-input-6-67b6ba888a01>:3: FutureWarning: DataFrame.fillna with 'method' is deprecated and will raise in a future version. Use obj.ffill() or obj.bfill() instead.\n",
            "  df.fillna(method='bfill', inplace=True)\n"
          ]
        }
      ]
    },
    {
      "cell_type": "code",
      "source": [
        "# Check for missing values\n",
        "print(df.isnull().sum())"
      ],
      "metadata": {
        "colab": {
          "base_uri": "https://localhost:8080/"
        },
        "id": "w-rIMepjSRN2",
        "outputId": "1063fc51-08ec-4920-ea64-b7dd28d5b19b"
      },
      "execution_count": null,
      "outputs": [
        {
          "output_type": "stream",
          "name": "stdout",
          "text": [
            "Start time            0\n",
            "Last time             0\n",
            "Attack category       0\n",
            "Attack subcategory    0\n",
            "Protocol              0\n",
            "Source IP             0\n",
            "Source Port           0\n",
            "Destination IP        0\n",
            "Destination Port      0\n",
            "Attack Name           0\n",
            "Attack Reference      0\n",
            ".                     0\n",
            "dtype: int64\n"
          ]
        }
      ]
    },
    {
      "cell_type": "code",
      "source": [
        "# Check for missing values\n",
        "print(df.isnull().sum())\n",
        "\n",
        "# Fill missing values using forward fill, followed by backward fill\n",
        "df.fillna(method='ffill', inplace=True)\n",
        "df.fillna(method='bfill', inplace=True)"
      ],
      "metadata": {
        "id": "J2BEcs6vRUWk"
      },
      "execution_count": null,
      "outputs": []
    },
    {
      "cell_type": "markdown",
      "source": [
        "This ensures that gaps in the data are filled using the most recent known values, preventing incomplete records from affecting the analysis."
      ],
      "metadata": {
        "id": "cngZGG2gloq4"
      }
    },
    {
      "cell_type": "markdown",
      "source": [
        "###1.2. Removing Duplicate Records\n",
        "\n",
        "Duplicates are common in network logs, especially when the same event is recorded by different monitoring systems. Identifying and removing these duplicates is essential for clean data."
      ],
      "metadata": {
        "id": "ovjPCDQrlqbu"
      }
    },
    {
      "cell_type": "code",
      "source": [
        "# Drop duplicate rows based on all columns\n",
        "df = df.drop_duplicates()\n",
        "\n",
        "# Check if duplicates have been removed\n",
        "print(f\"Data after removing duplicates: {df.shape}\")\n"
      ],
      "metadata": {
        "colab": {
          "base_uri": "https://localhost:8080/"
        },
        "id": "x7lEpAIFlp6x",
        "outputId": "375892fe-de87-423c-bd50-01452424577b"
      },
      "execution_count": null,
      "outputs": [
        {
          "output_type": "stream",
          "name": "stdout",
          "text": [
            "Data after removing duplicates: (174342, 12)\n"
          ]
        }
      ]
    },
    {
      "cell_type": "markdown",
      "source": [
        "This reduces the noise from redundant entries in the dataset."
      ],
      "metadata": {
        "id": "8KUfdKLGls2Y"
      }
    },
    {
      "cell_type": "markdown",
      "source": [
        "###1.3. Standardizing Timestamps\n",
        "\n",
        "In cybersecurity, logs from different systems may use different timestamp formats or time zones. Standardizing timestamps to a common format, such as UTC, is crucial for correlating events across systems."
      ],
      "metadata": {
        "id": "FlsCwUZhlt1R"
      }
    },
    {
      "cell_type": "code",
      "source": [
        "# Convert the timestamp column to a datetime object and standardize to UTC\n",
        "df['Start time'] = pd.to_datetime(df['Start time'], unit='s').dt.tz_localize('UTC')\n",
        "df['Last time'] = pd.to_datetime(df['Last time'], unit='s').dt.tz_localize('UTC')\n",
        "\n",
        "# Verify the conversion\n",
        "print(df[['Start time', 'Last time']].head())\n"
      ],
      "metadata": {
        "colab": {
          "base_uri": "https://localhost:8080/"
        },
        "id": "FeRSzd2xlYMI",
        "outputId": "0fe07f33-d81d-4ec1-8375-d93e06cf7b6c"
      },
      "execution_count": null,
      "outputs": [
        {
          "output_type": "stream",
          "name": "stdout",
          "text": [
            "                 Start time                 Last time\n",
            "0 2015-01-22 11:50:14+00:00 2015-01-22 11:50:16+00:00\n",
            "1 2015-01-22 11:50:15+00:00 2015-01-22 11:50:15+00:00\n",
            "2 2015-01-22 11:50:16+00:00 2015-01-22 11:50:16+00:00\n",
            "3 2015-01-22 11:50:17+00:00 2015-01-22 11:50:17+00:00\n",
            "4 2015-01-22 11:50:18+00:00 2015-01-22 11:50:18+00:00\n"
          ]
        }
      ]
    },
    {
      "cell_type": "markdown",
      "source": [
        "This ensures that all timestamps are consistent, enabling accurate event correlation."
      ],
      "metadata": {
        "id": "uaZC5vwhlygv"
      }
    },
    {
      "cell_type": "markdown",
      "source": [
        "##**Step 2: Feature Engineering and Dimensionality Reduction**\n",
        "###2.1. Feature Engineering\n",
        "\n",
        "To make the data more useful for machine learning models, we can create additional features. For example, we can calculate the duration of each connection by subtracting the \"Start time\" from the \"Last time\" of each record."
      ],
      "metadata": {
        "id": "oh_CPGy6lyjA"
      }
    },
    {
      "cell_type": "code",
      "source": [
        "# Create a new feature: Connection duration\n",
        "df['Duration'] = (df['Last time'] - df['Start time']).dt.total_seconds()\n",
        "\n",
        "# Display the new feature\n",
        "print(df[['Start time', 'Last time', 'Duration']].head())\n"
      ],
      "metadata": {
        "colab": {
          "base_uri": "https://localhost:8080/"
        },
        "id": "t0ARzk0Gl39v",
        "outputId": "4b8bbc08-9031-4a1b-cc3f-a3345cd5bc56"
      },
      "execution_count": null,
      "outputs": [
        {
          "output_type": "stream",
          "name": "stdout",
          "text": [
            "                 Start time                 Last time  Duration\n",
            "0 2015-01-22 11:50:14+00:00 2015-01-22 11:50:16+00:00       2.0\n",
            "1 2015-01-22 11:50:15+00:00 2015-01-22 11:50:15+00:00       0.0\n",
            "2 2015-01-22 11:50:16+00:00 2015-01-22 11:50:16+00:00       0.0\n",
            "3 2015-01-22 11:50:17+00:00 2015-01-22 11:50:17+00:00       0.0\n",
            "4 2015-01-22 11:50:18+00:00 2015-01-22 11:50:18+00:00       0.0\n"
          ]
        }
      ]
    },
    {
      "cell_type": "markdown",
      "source": [
        "###2.2. Dimensionality Reduction Using PCA\n",
        "\n",
        "The dataset contains numerous features, but not all of them may be relevant to detecting attacks. Principal Component Analysis (PCA) can be used to reduce the dimensionality of the data while preserving the most important information."
      ],
      "metadata": {
        "id": "wwCPol-8l7Y4"
      }
    },
    {
      "cell_type": "code",
      "source": [
        "from sklearn.decomposition import PCA\n",
        "from sklearn.preprocessing import StandardScaler\n",
        "\n",
        "# Select relevant numeric features for PCA\n",
        "features = ['Source Port', 'Destination Port', 'Duration']\n",
        "X = df[features].fillna(0)  # Handle missing values\n",
        "\n",
        "# Standardize the features before applying PCA\n",
        "scaler = StandardScaler()\n",
        "X_scaled = scaler.fit_transform(X)\n",
        "\n",
        "# Apply PCA to reduce dimensions to 2 components\n",
        "pca = PCA(n_components=2)\n",
        "pca_result = pca.fit_transform(X_scaled)\n",
        "\n",
        "# Add the PCA results back to the dataframe\n",
        "df['PCA1'] = pca_result[:, 0]\n",
        "df['PCA2'] = pca_result[:, 1]\n",
        "\n",
        "print(df[['PCA1', 'PCA2']].head())\n"
      ],
      "metadata": {
        "colab": {
          "base_uri": "https://localhost:8080/"
        },
        "id": "5KRrv1-bl4AI",
        "outputId": "8af04add-0118-44b6-c2a2-3b2e4f5f7c69"
      },
      "execution_count": null,
      "outputs": [
        {
          "output_type": "stream",
          "name": "stdout",
          "text": [
            "       PCA1      PCA2\n",
            "0 -0.151177 -0.119653\n",
            "1  2.860571  1.833079\n",
            "2  0.251326 -0.265181\n",
            "3  0.400241  0.047909\n",
            "4  0.363347 -0.250311\n"
          ]
        }
      ]
    },
    {
      "cell_type": "markdown",
      "source": [
        "This reduces noise from irrelevant features, allowing the model to focus on the most critical data points."
      ],
      "metadata": {
        "id": "_OfKFLPcl-pv"
      }
    },
    {
      "cell_type": "markdown",
      "source": [
        "##**Step 3: Handling Imbalanced Data**\n",
        "One of the biggest challenges in the UNSW-NB15 dataset is the class imbalance between normal traffic and attacksn Imbalance can cause machine learning models to become biased toward the majority class, resulting in poor detection of minority-class attacks\n",
        "\n",
        "###Techniques to Handle Imbalanced Data:\n",
        "1. Oversampling the Minority Class (e.g., SMOTE): Synthetic Minority Over-sampling Technique (SMOTE) generates synthetic samples to balance the classes."
      ],
      "metadata": {
        "id": "NGrBcjsql-r6"
      }
    },
    {
      "cell_type": "code",
      "source": [
        "from collections import Counter\n",
        "\n",
        "print(Counter(y))  # Check the class distribution\n"
      ],
      "metadata": {
        "colab": {
          "base_uri": "https://localhost:8080/"
        },
        "id": "fD31QqtSTF36",
        "outputId": "3c8cc9aa-1b9d-4a1b-f03b-42ac5764a851"
      },
      "execution_count": null,
      "outputs": [
        {
          "output_type": "stream",
          "name": "stdout",
          "text": [
            "Counter({'Exploits': 68211, ' Fuzzers ': 29503, 'DoS': 24582, 'Generic': 19860, ' Reconnaissance ': 18392, ' Fuzzers': 4135, 'Backdoor': 4097, 'Analysis': 1881, 'Reconnaissance': 1744, ' Shellcode ': 1288, 'Backdoors': 256, 'Shellcode': 223, 'Worms': 169, '.': 1})\n"
          ]
        }
      ]
    },
    {
      "cell_type": "markdown",
      "source": [
        "The output of Counter(y) shows the class distribution in your dataset. Based on this, you can see that the smallest class, represented by '.', has only 1 sample, and there are multiple variations of similar labels (e.g., ' Fuzzers ' and 'Fuzzers', ' Shellcode ' and 'Shellcode'). This could be contributing to the issue, and label cleaning might be necessary before applying SMOTE.\n",
        "\n",
        "Steps:\n",
        "Clean up labels: It seems that some of your labels have extra spaces. You'll want to clean the label names before continuing. This can be done as follows:"
      ],
      "metadata": {
        "id": "YiQf4cYyTW-D"
      }
    },
    {
      "cell_type": "code",
      "source": [
        "# Strip whitespace from the labels\n",
        "df['Attack category'] = df['Attack category'].str.strip()\n",
        "\n",
        "# Recheck the class distribution after cleaning\n",
        "y = df['Attack category']\n",
        "print(Counter(y))\n"
      ],
      "metadata": {
        "colab": {
          "base_uri": "https://localhost:8080/"
        },
        "id": "jX2xCt2pTUck",
        "outputId": "71394d1c-9c54-4a6a-f6b4-577724e23c32"
      },
      "execution_count": null,
      "outputs": [
        {
          "output_type": "stream",
          "name": "stdout",
          "text": [
            "Counter({'Exploits': 68211, 'Fuzzers': 33638, 'DoS': 24582, 'Reconnaissance': 20136, 'Generic': 19860, 'Backdoor': 4097, 'Analysis': 1881, 'Shellcode': 1511, 'Backdoors': 256, 'Worms': 169, '.': 1})\n"
          ]
        }
      ]
    },
    {
      "cell_type": "markdown",
      "source": [
        "Handle classes with very few samples: The class '.' has only 1 sample, which will cause issues with SMOTE. SMOTE cannot oversample a class with fewer than 2 samples when k_neighbors=1. You can either:\n",
        "\n",
        "Remove this class from your dataset if it's not meaningful or too small to generalize.\n"
      ],
      "metadata": {
        "id": "TZo86aQPTjXU"
      }
    },
    {
      "cell_type": "code",
      "source": [
        "# Strip whitespace from the labels\n",
        "df['Attack category'] = df['Attack category'].str.strip()\n",
        "# Remove rows with label '.'\n",
        "df = df[df['Attack category'] != '.']\n",
        "y = df['Attack category']"
      ],
      "metadata": {
        "id": "NWcjB8oNTgb0"
      },
      "execution_count": null,
      "outputs": []
    },
    {
      "cell_type": "code",
      "source": [
        "print(Counter(y))"
      ],
      "metadata": {
        "colab": {
          "base_uri": "https://localhost:8080/"
        },
        "id": "eQtHbzytTquj",
        "outputId": "a7ad8678-e7b8-47e7-eb96-63fb5d14e3ea"
      },
      "execution_count": null,
      "outputs": [
        {
          "output_type": "stream",
          "name": "stdout",
          "text": [
            "Counter({'Exploits': 68211, 'Fuzzers': 33638, 'DoS': 24582, 'Reconnaissance': 20136, 'Generic': 19860, 'Backdoor': 4097, 'Analysis': 1881, 'Shellcode': 1511, 'Backdoors': 256, 'Worms': 169})\n"
          ]
        }
      ]
    },
    {
      "cell_type": "markdown",
      "source": [
        "Determine k_neighbors: After cleaning up the labels and addressing classes with very few samples, you can now determine the appropriate k_neighbors for SMOTE. For the minority classes like 'Worms' (169 samples) or 'Shellcode' (223 samples), you could use a smaller k_neighbors value, such as 2 or 3."
      ],
      "metadata": {
        "id": "VnhTkiQYTngM"
      }
    },
    {
      "cell_type": "code",
      "source": [
        "from imblearn.over_sampling import SMOTE\n",
        "from collections import Counter\n",
        "\n",
        "# Features and labels\n",
        "X = df[['Source Port', 'Destination Port', 'Duration', 'PCA1', 'PCA2']]\n",
        "y = df['Attack category']\n",
        "\n",
        "# Set k_neighbors according to the smallest class size\n",
        "smote = SMOTE(sampling_strategy='minority', k_neighbors=2)  # Set to a value <= 168 (Worms - 1)\n",
        "\n",
        "# Apply SMOTE\n",
        "X_res, y_res = smote.fit_resample(X, y)\n",
        "\n",
        "# Check the new shape\n",
        "print(f\"After SMOTE: {X_res.shape}, {y_res.shape}\")\n",
        "print(Counter(y_res))  # Check the new class distribution after SMOTE\n"
      ],
      "metadata": {
        "colab": {
          "base_uri": "https://localhost:8080/"
        },
        "id": "y4jhe6IQToAr",
        "outputId": "8cbd2670-3c03-41be-ceb1-3b6d609b51ed"
      },
      "execution_count": null,
      "outputs": [
        {
          "output_type": "stream",
          "name": "stdout",
          "text": [
            "After SMOTE: (242383, 5), (242383,)\n",
            "Counter({'Exploits': 68211, 'Worms': 68211, 'Fuzzers': 33638, 'DoS': 24582, 'Reconnaissance': 20136, 'Generic': 19860, 'Backdoor': 4097, 'Analysis': 1881, 'Shellcode': 1511, 'Backdoors': 256})\n"
          ]
        }
      ]
    },
    {
      "cell_type": "code",
      "source": [
        "from imblearn.over_sampling import SMOTE\n",
        "from collections import Counter\n",
        "\n",
        "# Features and labels\n",
        "X = df[['Source Port', 'Destination Port', 'Duration', 'PCA1', 'PCA2']]\n",
        "y = df['Attack category']\n",
        "\n",
        "# Set k_neighbors according to the smallest class size\n",
        "smote = SMOTE(sampling_strategy='minority', k_neighbors=3)  # Set to a value <= 168 (Worms - 1)\n",
        "\n",
        "# Apply SMOTE\n",
        "X_res, y_res = smote.fit_resample(X, y)\n",
        "\n",
        "# Check the new shape\n",
        "print(f\"After SMOTE: {X_res.shape}, {y_res.shape}\")\n",
        "print(Counter(y_res))  # Check the new class distribution after SMOTE\n"
      ],
      "metadata": {
        "colab": {
          "base_uri": "https://localhost:8080/"
        },
        "id": "coXeEkPfT597",
        "outputId": "ae657634-bf68-49e1-f77b-9fcde3161c3b"
      },
      "execution_count": null,
      "outputs": [
        {
          "output_type": "stream",
          "name": "stdout",
          "text": [
            "After SMOTE: (242383, 5), (242383,)\n",
            "Counter({'Exploits': 68211, 'Worms': 68211, 'Fuzzers': 33638, 'DoS': 24582, 'Reconnaissance': 20136, 'Generic': 19860, 'Backdoor': 4097, 'Analysis': 1881, 'Shellcode': 1511, 'Backdoors': 256})\n"
          ]
        }
      ]
    },
    {
      "cell_type": "code",
      "source": [
        "# Define how many samples you want for each class\n",
        "sampling_strategy = {\n",
        "    'Exploits': 68211,   # Keep the same\n",
        "    'Worms': 50000,      # Oversample Worms to 50,000\n",
        "    'Fuzzers': 33638,    # Keep the same\n",
        "    'DoS': 24582,        # Keep the same\n",
        "    'Reconnaissance': 20136,  # Keep the same\n",
        "    'Generic': 19860,    # Keep the same\n",
        "    'Backdoor': 10000,   # Oversample Backdoor to 10,000\n",
        "    'Analysis': 5000,    # Oversample Analysis to 5,000\n",
        "    'Shellcode': 3000,   # Oversample Shellcode to 3,000\n",
        "    'Backdoors': 1000    # Oversample Backdoors to 1,000\n",
        "}\n",
        "\n",
        "# Apply SMOTE with the custom sampling strategy\n",
        "smote = SMOTE(sampling_strategy=sampling_strategy, k_neighbors=2)\n",
        "X_res, y_res = smote.fit_resample(X, y)\n",
        "\n",
        "# Check the new class distribution\n",
        "print(Counter(y_res))\n"
      ],
      "metadata": {
        "colab": {
          "base_uri": "https://localhost:8080/"
        },
        "id": "p_OzGzGfl4Dv",
        "outputId": "e91e2624-1778-48e1-d01b-9e264bbf5159"
      },
      "execution_count": null,
      "outputs": [
        {
          "output_type": "stream",
          "name": "stdout",
          "text": [
            "Counter({'Exploits': 68211, 'Worms': 50000, 'Fuzzers': 33638, 'DoS': 24582, 'Reconnaissance': 20136, 'Generic': 19860, 'Backdoor': 10000, 'Analysis': 5000, 'Shellcode': 3000, 'Backdoors': 1000})\n"
          ]
        }
      ]
    },
    {
      "cell_type": "code",
      "source": [],
      "metadata": {
        "id": "plpcvY0CTa8m"
      },
      "execution_count": null,
      "outputs": []
    },
    {
      "cell_type": "markdown",
      "source": [
        "2. Handling Temporal Data with Window Functions: Use rolling windows and time-based aggregations to detect patterns like brute-force attacks that span multiple connections over a certain period."
      ],
      "metadata": {
        "id": "p48Pev67mPnH"
      }
    },
    {
      "cell_type": "code",
      "source": [
        "# Convert the 'Start time' column to datetime from Unix timestamp\n",
        "df['Start time'] = pd.to_datetime(df['Start time'], unit='s')\n",
        "\n",
        "# Set 'Start time' as the index for time-based operations\n",
        "df.set_index('Start time', inplace=True)\n",
        "\n",
        "# Create a column for Failed Logins (assuming 'BruteForce' is the label for failed logins)\n",
        "df['Failed Logins'] = df['Attack category'] == 'BruteForce'\n",
        "\n",
        "# Use resample to create 10-minute windows and sum the failed logins\n",
        "rolling_window = df['Failed Logins'].resample('10T').sum()\n",
        "\n",
        "# Print the result\n",
        "print(rolling_window.head())\n"
      ],
      "metadata": {
        "colab": {
          "base_uri": "https://localhost:8080/"
        },
        "id": "e0OLBax1l4GY",
        "outputId": "1693ee2a-d754-41b9-e9a3-578db1fdde45"
      },
      "execution_count": null,
      "outputs": [
        {
          "output_type": "stream",
          "name": "stdout",
          "text": [
            "Start time\n",
            "2015-01-22 11:50:00+00:00    0\n",
            "2015-01-22 12:00:00+00:00    0\n",
            "2015-01-22 12:10:00+00:00    0\n",
            "2015-01-22 12:20:00+00:00    0\n",
            "2015-01-22 12:30:00+00:00    0\n",
            "Freq: 10T, Name: Failed Logins, dtype: int64\n"
          ]
        }
      ]
    },
    {
      "cell_type": "markdown",
      "source": [
        "3. Correlation-Based Feature Selection: Instead of relying on simple dimensionality reduction, introduce more complex techniques like correlation analysis or mutual information to understand the relationships between features."
      ],
      "metadata": {
        "id": "EnK3KAV9mSuh"
      }
    },
    {
      "cell_type": "code",
      "source": [
        "from sklearn.feature_selection import mutual_info_classif\n",
        "# Calculate mutual information for feature importance\n",
        "mutual_info = mutual_info_classif(X, y)\n",
        "important_features = pd.Series(mutual_info, index=X.columns)\n",
        "important_features.sort_values(ascending=False).plot(kind='bar')\n"
      ],
      "metadata": {
        "colab": {
          "base_uri": "https://localhost:8080/",
          "height": 545
        },
        "id": "BARj1Ceml4J_",
        "outputId": "79036c50-4920-42fb-c46c-ccdec4f3a69e"
      },
      "execution_count": null,
      "outputs": [
        {
          "output_type": "execute_result",
          "data": {
            "text/plain": [
              "<Axes: >"
            ]
          },
          "metadata": {},
          "execution_count": 26
        },
        {
          "output_type": "display_data",
          "data": {
            "text/plain": [
              "<Figure size 640x480 with 1 Axes>"
            ],
            "image/png": "[encoded data removed]"
          },
          "metadata": {}
        }
      ]
    },
    {
      "cell_type": "markdown",
      "source": [
        "4. Advanced Handling of Imbalanced Data: Beyond SMOTE, include techniques like Adaptive Synthetic (ADASYN) sampling or Ensemble methods such as Balanced Random Forests to address the class imbalance problem. Also, dive into cost-sensitive algorithms, which penalize models for misclassifying minority classes (i.e., attacks)."
      ],
      "metadata": {
        "id": "ZGaykAnKmWRP"
      }
    },
    {
      "cell_type": "code",
      "source": [
        "from imblearn.over_sampling import ADASYN\n",
        "# Applying ADASYN to the dataset\n",
        "adasyn = ADASYN(sampling_strategy='minority')\n",
        "X_res, y_res = adasyn.fit_resample(X, y)\n",
        "print(f\"After ADASYN: {X_res.shape}, {y_res.shape}\")\n"
      ],
      "metadata": {
        "colab": {
          "base_uri": "https://localhost:8080/"
        },
        "id": "L569pElhl4Nv",
        "outputId": "5a7ecaf1-9958-4ba3-f111-bcedd09d553f"
      },
      "execution_count": null,
      "outputs": [
        {
          "output_type": "stream",
          "name": "stdout",
          "text": [
            "After ADASYN: (242321, 5), (242321,)\n"
          ]
        }
      ]
    },
    {
      "cell_type": "markdown",
      "source": [
        "5. Ensemble Techniques to Handle Imbalance: Introduce ensemble learning techniques like Balanced Random Forests or XGBoost with built-in class weighting to handle imbalance dynamically within the model structure."
      ],
      "metadata": {
        "id": "jeGwUewFmeq_"
      }
    },
    {
      "cell_type": "markdown",
      "source": [
        "Set Up XGBoost with scale_pos_weight:\n",
        "This parameter will penalize misclassifications of the minority class (attacks), helping the model focus on detecting intrusions."
      ],
      "metadata": {
        "id": "PiYIt4n7mtS_"
      }
    },
    {
      "cell_type": "code",
      "source": [
        "import pandas as pd\n",
        "from sklearn.preprocessing import LabelEncoder\n",
        "from sklearn.model_selection import train_test_split\n",
        "from xgboost import XGBClassifier\n",
        "\n",
        "# Drop irrelevant columns\n",
        "df_cleaned = df.drop(columns=['Last time', 'Attack Name', 'Attack Reference', '.'])\n",
        "\n",
        "# Convert categorical columns using one-hot encoding\n",
        "df_encoded = pd.get_dummies(df_cleaned, columns=['Attack subcategory', 'Protocol', 'Source IP', 'Destination IP'])\n",
        "\n",
        "# Define features and target\n",
        "X = df_encoded.drop('Attack category', axis=1)  # Features\n",
        "y = df_encoded['Attack category']  # Target\n",
        "\n",
        "# Encode the target variable\n",
        "le = LabelEncoder()\n",
        "y_encoded = le.fit_transform(y)\n",
        "\n",
        "# Split the data into training and testing sets\n",
        "X_train, X_test, y_train, y_test = train_test_split(X, y_encoded, test_size=0.3, random_state=42)\n",
        "\n",
        "# Calculate the imbalance ratio for the encoded labels\n",
        "class_counts = pd.Series(y_encoded).value_counts()\n",
        "imbalance_ratio = class_counts.max() / class_counts.min()\n",
        "\n",
        "# Initialize the XGBoost model with scale_pos_weight to handle imbalance\n",
        "xgb = XGBClassifier(scale_pos_weight=imbalance_ratio, use_label_encoder=False, eval_metric='mlogloss')\n",
        "\n",
        "# Train the model\n",
        "xgb.fit(X_train, y_train)\n"
      ],
      "metadata": {
        "colab": {
          "base_uri": "https://localhost:8080/",
          "height": 317
        },
        "id": "dxUXBF5xmu24",
        "outputId": "fdc0ebf0-3bc2-4acf-8319-d32064e036f5"
      },
      "execution_count": null,
      "outputs": [
        {
          "output_type": "stream",
          "name": "stderr",
          "text": [
            "/usr/local/lib/python3.10/dist-packages/xgboost/core.py:158: UserWarning: [16:26:48] WARNING: /workspace/src/learner.cc:740: \n",
            "Parameters: { \"scale_pos_weight\", \"use_label_encoder\" } are not used.\n",
            "\n",
            "  warnings.warn(smsg, UserWarning)\n"
          ]
        },
        {
          "output_type": "execute_result",
          "data": {
            "text/plain": [
              "XGBClassifier(base_score=None, booster=None, callbacks=None,\n",
              "              colsample_bylevel=None, colsample_bynode=None,\n",
              "              colsample_bytree=None, device=None, early_stopping_rounds=None,\n",
              "              enable_categorical=False, eval_metric='mlogloss',\n",
              "              feature_types=None, gamma=None, grow_policy=None,\n",
              "              importance_type=None, interaction_constraints=None,\n",
              "              learning_rate=None, max_bin=None, max_cat_threshold=None,\n",
              "              max_cat_to_onehot=None, max_delta_step=None, max_depth=None,\n",
              "              max_leaves=None, min_child_weight=None, missing=nan,\n",
              "              monotone_constraints=None, multi_strategy=None, n_estimators=None,\n",
              "              n_jobs=None, num_parallel_tree=None, objective='multi:softprob', ...)"
            ],
            "text/html": [
              "<style>#sk-container-id-2 {color: black;}#sk-container-id-2 pre{padding: 0;}#sk-container-id-2 div.sk-toggleable {background-color: white;}#sk-container-id-2 label.sk-toggleable__label {cursor: pointer;display: block;width: 100%;margin-bottom: 0;padding: 0.3em;box-sizing: border-box;text-align: center;}#sk-container-id-2 label.sk-toggleable__label-arrow:before {content: \"▸\";float: left;margin-right: 0.25em;color: #696969;}#sk-container-id-2 label.sk-toggleable__label-arrow:hover:before {color: black;}#sk-container-id-2 div.sk-estimator:hover label.sk-toggleable__label-arrow:before {color: black;}#sk-container-id-2 div.sk-toggleable__content {max-height: 0;max-width: 0;overflow: hidden;text-align: left;background-color: #f0f8ff;}#sk-container-id-2 div.sk-toggleable__content pre {margin: 0.2em;color: black;border-radius: 0.25em;background-color: #f0f8ff;}#sk-container-id-2 input.sk-toggleable__control:checked~div.sk-toggleable__content {max-height: 200px;max-width: 100%;overflow: auto;}#sk-container-id-2 input.sk-toggleable__control:checked~label.sk-toggleable__label-arrow:before {content: \"▾\";}#sk-container-id-2 div.sk-estimator input.sk-toggleable__control:checked~label.sk-toggleable__label {background-color: #d4ebff;}#sk-container-id-2 div.sk-label input.sk-toggleable__control:checked~label.sk-toggleable__label {background-color: #d4ebff;}#sk-container-id-2 input.sk-hidden--visually {border: 0;clip: rect(1px 1px 1px 1px);clip: rect(1px, 1px, 1px, 1px);height: 1px;margin: -1px;overflow: hidden;padding: 0;position: absolute;width: 1px;}#sk-container-id-2 div.sk-estimator {font-family: monospace;background-color: #f0f8ff;border: 1px dotted black;border-radius: 0.25em;box-sizing: border-box;margin-bottom: 0.5em;}#sk-container-id-2 div.sk-estimator:hover {background-color: #d4ebff;}#sk-container-id-2 div.sk-parallel-item::after {content: \"\";width: 100%;border-bottom: 1px solid gray;flex-grow: 1;}#sk-container-id-2 div.sk-label:hover label.sk-toggleable__label {background-color: #d4ebff;}#sk-container-id-2 div.sk-serial::before {content: \"\";position: absolute;border-left: 1px solid gray;box-sizing: border-box;top: 0;bottom: 0;left: 50%;z-index: 0;}#sk-container-id-2 div.sk-serial {display: flex;flex-direction: column;align-items: center;background-color: white;padding-right: 0.2em;padding-left: 0.2em;position: relative;}#sk-container-id-2 div.sk-item {position: relative;z-index: 1;}#sk-container-id-2 div.sk-parallel {display: flex;align-items: stretch;justify-content: center;background-color: white;position: relative;}#sk-container-id-2 div.sk-item::before, #sk-container-id-2 div.sk-parallel-item::before {content: \"\";position: absolute;border-left: 1px solid gray;box-sizing: border-box;top: 0;bottom: 0;left: 50%;z-index: -1;}#sk-container-id-2 div.sk-parallel-item {display: flex;flex-direction: column;z-index: 1;position: relative;background-color: white;}#sk-container-id-2 div.sk-parallel-item:first-child::after {align-self: flex-end;width: 50%;}#sk-container-id-2 div.sk-parallel-item:last-child::after {align-self: flex-start;width: 50%;}#sk-container-id-2 div.sk-parallel-item:only-child::after {width: 0;}#sk-container-id-2 div.sk-dashed-wrapped {border: 1px dashed gray;margin: 0 0.4em 0.5em 0.4em;box-sizing: border-box;padding-bottom: 0.4em;background-color: white;}#sk-container-id-2 div.sk-label label {font-family: monospace;font-weight: bold;display: inline-block;line-height: 1.2em;}#sk-container-id-2 div.sk-label-container {text-align: center;}#sk-container-id-2 div.sk-container {/* jupyter's `normalize.less` sets `[hidden] { display: none; }` but bootstrap.min.css set `[hidden] { display: none !important; }` so we also need the `!important` here to be able to override the default hidden behavior on the sphinx rendered scikit-learn.org. See: https://github.com/scikit-learn/scikit-learn/issues/21755 */display: inline-block !important;position: relative;}#sk-container-id-2 div.sk-text-repr-fallback {display: none;}</style><div id=\"sk-container-id-2\" class=\"sk-top-container\"><div class=\"sk-text-repr-fallback\"><pre>XGBClassifier(base_score=None, booster=None, callbacks=None,\n",
              "              colsample_bylevel=None, colsample_bynode=None,\n",
              "              colsample_bytree=None, device=None, early_stopping_rounds=None,\n",
              "              enable_categorical=False, eval_metric=&#x27;mlogloss&#x27;,\n",
              "              feature_types=None, gamma=None, grow_policy=None,\n",
              "              importance_type=None, interaction_constraints=None,\n",
              "              learning_rate=None, max_bin=None, max_cat_threshold=None,\n",
              "              max_cat_to_onehot=None, max_delta_step=None, max_depth=None,\n",
              "              max_leaves=None, min_child_weight=None, missing=nan,\n",
              "              monotone_constraints=None, multi_strategy=None, n_estimators=None,\n",
              "              n_jobs=None, num_parallel_tree=None, objective=&#x27;multi:softprob&#x27;, ...)</pre><b>In a Jupyter environment, please rerun this cell to show the HTML representation or trust the notebook. <br />On GitHub, the HTML representation is unable to render, please try loading this page with nbviewer.org.</b></div><div class=\"sk-container\" hidden><div class=\"sk-item\"><div class=\"sk-estimator sk-toggleable\"><input class=\"sk-toggleable__control sk-hidden--visually\" id=\"sk-estimator-id-2\" type=\"checkbox\" checked><label for=\"sk-estimator-id-2\" class=\"sk-toggleable__label sk-toggleable__label-arrow\">XGBClassifier</label><div class=\"sk-toggleable__content\"><pre>XGBClassifier(base_score=None, booster=None, callbacks=None,\n",
              "              colsample_bylevel=None, colsample_bynode=None,\n",
              "              colsample_bytree=None, device=None, early_stopping_rounds=None,\n",
              "              enable_categorical=False, eval_metric=&#x27;mlogloss&#x27;,\n",
              "              feature_types=None, gamma=None, grow_policy=None,\n",
              "              importance_type=None, interaction_constraints=None,\n",
              "              learning_rate=None, max_bin=None, max_cat_threshold=None,\n",
              "              max_cat_to_onehot=None, max_delta_step=None, max_depth=None,\n",
              "              max_leaves=None, min_child_weight=None, missing=nan,\n",
              "              monotone_constraints=None, multi_strategy=None, n_estimators=None,\n",
              "              n_jobs=None, num_parallel_tree=None, objective=&#x27;multi:softprob&#x27;, ...)</pre></div></div></div></div></div>"
            ]
          },
          "metadata": {},
          "execution_count": 39
        }
      ]
    },
    {
      "cell_type": "markdown",
      "source": [
        "Calculate the Imbalance Ratio:\n",
        "This ratio will be used to set the weight for the minority class (attacks)."
      ],
      "metadata": {
        "id": "a4N-nK1vmrF_"
      }
    },
    {
      "cell_type": "code",
      "source": [
        "print(df['Attack category'].unique())\n"
      ],
      "metadata": {
        "colab": {
          "base_uri": "https://localhost:8080/"
        },
        "id": "g7M3uP5GV8xk",
        "outputId": "7b3549b4-e64a-4b12-c19f-307180d0978f"
      },
      "execution_count": null,
      "outputs": [
        {
          "output_type": "stream",
          "name": "stdout",
          "text": [
            "['Reconnaissance' 'Exploits' 'DoS' 'Generic' 'Shellcode' 'Fuzzers' 'Worms'\n",
            " 'Backdoors' 'Analysis' 'Backdoor']\n"
          ]
        }
      ]
    },
    {
      "cell_type": "code",
      "source": [
        "# Define categories\n",
        "normal_category = 'Normal'  # Replace this with the actual normal traffic category if applicable\n",
        "attack_categories = ['Reconnaissance', 'Exploits', 'DoS', 'Generic', 'Shellcode', 'Fuzzers', 'Worms', 'Backdoors', 'Analysis', 'Backdoor']\n",
        "\n",
        "# Count normal and attack traffic\n",
        "normal_count = len(df[df['Attack category'] == normal_category])\n",
        "attack_count = len(df[df['Attack category'].isin(attack_categories)])\n",
        "\n",
        "# Calculate the imbalance ratio\n",
        "imbalance_ratio = normal_count / attack_count if attack_count != 0 else float('inf')  # Handle division by zero\n",
        "\n",
        "print(f\"Imbalance ratio (Normal:Attack): {imbalance_ratio}\")\n"
      ],
      "metadata": {
        "colab": {
          "base_uri": "https://localhost:8080/"
        },
        "id": "jG4h7XRLms1B",
        "outputId": "d169ddbc-ea6e-400b-822f-e5ca75104c03"
      },
      "execution_count": null,
      "outputs": [
        {
          "output_type": "stream",
          "name": "stdout",
          "text": [
            "Imbalance ratio (Normal:Attack): 0.0\n"
          ]
        }
      ]
    },
    {
      "cell_type": "code",
      "source": [
        "# Print the counts for each category\n",
        "print(df['Attack category'].value_counts())\n"
      ],
      "metadata": {
        "colab": {
          "base_uri": "https://localhost:8080/"
        },
        "id": "jQYyUp5cWO4E",
        "outputId": "9bc53396-12d7-472f-b419-d7f6570d8064"
      },
      "execution_count": null,
      "outputs": [
        {
          "output_type": "stream",
          "name": "stdout",
          "text": [
            "Attack category\n",
            "Exploits          68211\n",
            "Fuzzers           33638\n",
            "DoS               24582\n",
            "Reconnaissance    20136\n",
            "Generic           19860\n",
            "Backdoor           4097\n",
            "Analysis           1881\n",
            "Shellcode          1511\n",
            "Backdoors           256\n",
            "Worms               169\n",
            "Name: count, dtype: int64\n"
          ]
        }
      ]
    },
    {
      "cell_type": "code",
      "source": [
        "# Print the distribution of attack types\n",
        "attack_distribution = df['Attack category'].value_counts()\n",
        "print(\"Attack Category Distribution:\")\n",
        "print(attack_distribution)\n"
      ],
      "metadata": {
        "colab": {
          "base_uri": "https://localhost:8080/"
        },
        "id": "XAWITD1ER5jZ",
        "outputId": "8faa92ce-bd41-4f56-bd63-02be10ddaf26"
      },
      "execution_count": null,
      "outputs": [
        {
          "output_type": "stream",
          "name": "stdout",
          "text": [
            "Attack Category Distribution:\n",
            "Attack category\n",
            "Exploits          68211\n",
            "Fuzzers           33638\n",
            "DoS               24582\n",
            "Reconnaissance    20136\n",
            "Generic           19860\n",
            "Backdoor           4097\n",
            "Analysis           1881\n",
            "Shellcode          1511\n",
            "Backdoors           256\n",
            "Worms               169\n",
            "Name: count, dtype: int64\n"
          ]
        }
      ]
    },
    {
      "cell_type": "code",
      "source": [
        "# Normalize the distribution\n",
        "attack_distribution_normalized = attack_distribution / attack_distribution.sum()\n",
        "print(\"Normalized Attack Category Distribution:\")\n",
        "print(attack_distribution_normalized)\n"
      ],
      "metadata": {
        "colab": {
          "base_uri": "https://localhost:8080/"
        },
        "id": "u9QOaYcgWZOd",
        "outputId": "886b4907-fd41-455a-bd27-629e6dcf3449"
      },
      "execution_count": null,
      "outputs": [
        {
          "output_type": "stream",
          "name": "stdout",
          "text": [
            "Normalized Attack Category Distribution:\n",
            "Attack category\n",
            "Exploits          0.391250\n",
            "Fuzzers           0.192944\n",
            "DoS               0.141000\n",
            "Reconnaissance    0.115498\n",
            "Generic           0.113915\n",
            "Backdoor          0.023500\n",
            "Analysis          0.010789\n",
            "Shellcode         0.008667\n",
            "Backdoors         0.001468\n",
            "Worms             0.000969\n",
            "Name: count, dtype: float64\n"
          ]
        }
      ]
    },
    {
      "cell_type": "markdown",
      "source": [
        "Insights and Next Steps\n",
        "Understand Data Imbalance:\n",
        "\n",
        "The high proportion of categories like Exploits and Fuzzers compared to the very low proportion of categories like Worms and Backdoors indicates a significant class imbalance.\n",
        "Modeling Considerations:\n",
        "\n",
        "Sampling Techniques: Consider techniques such as oversampling the rare categories or undersampling the more frequent ones to address class imbalance in your models.\n",
        "Class Weights: Some models, such as certain classifiers, allow you to set class weights to account for imbalances directly.\n",
        "Analysis and Visualization:\n",
        "\n",
        "Visualize Distribution: Create plots (e.g., bar charts or pie charts) to visualize the distribution of attack types. This can help in understanding the dataset better.\n",
        "Feature Engineering: Analyze if certain features are more informative for specific attack types and consider feature engineering based on attack distribution."
      ],
      "metadata": {
        "id": "CdZW480KWhrS"
      }
    },
    {
      "cell_type": "code",
      "source": [
        "import matplotlib.pyplot as plt\n",
        "\n",
        "# Plot the normalized attack distribution\n",
        "plt.figure(figsize=(10, 6))\n",
        "attack_distribution_normalized.plot(kind='bar', color='skyblue')\n",
        "plt.title('Normalized Attack Category Distribution')\n",
        "plt.xlabel('Attack Category')\n",
        "plt.ylabel('Proportion')\n",
        "plt.xticks(rotation=45)\n",
        "plt.tight_layout()\n",
        "plt.show()\n"
      ],
      "metadata": {
        "colab": {
          "base_uri": "https://localhost:8080/",
          "height": 607
        },
        "id": "yaO1usgZWWuo",
        "outputId": "2b1c311a-2534-4681-9015-494049720502"
      },
      "execution_count": null,
      "outputs": [
        {
          "output_type": "display_data",
          "data": {
            "text/plain": [
              "<Figure size 1000x600 with 1 Axes>"
            ],
            "image/png": "[encoded data removed]"
          },
          "metadata": {}
        }
      ]
    },
    {
      "cell_type": "code",
      "source": [],
      "metadata": {
        "id": "oCVVHvGaWWxS"
      },
      "execution_count": null,
      "outputs": []
    },
    {
      "cell_type": "code",
      "source": [],
      "metadata": {
        "id": "d2Zj6LgCWW0F"
      },
      "execution_count": null,
      "outputs": []
    },
    {
      "cell_type": "markdown",
      "source": [
        "Model Evaluation"
      ],
      "metadata": {
        "id": "Osa5mXaamy7A"
      }
    },
    {
      "cell_type": "code",
      "source": [
        "from sklearn.metrics import classification_report, confusion_matrix\n",
        "\n",
        "# Make predictions on the test set\n",
        "y_pred = xgb.predict(X_test)\n",
        "\n",
        "# Evaluate the model's performance\n",
        "print(classification_report(y_test, y_pred))\n",
        "print(confusion_matrix(y_test, y_pred))\n"
      ],
      "metadata": {
        "colab": {
          "base_uri": "https://localhost:8080/"
        },
        "id": "X_n_TYHamzvp",
        "outputId": "268823b9-160d-4464-9ca0-ef255b559a1a"
      },
      "execution_count": null,
      "outputs": [
        {
          "output_type": "stream",
          "name": "stdout",
          "text": [
            "              precision    recall  f1-score   support\n",
            "\n",
            "           0       0.99      0.44      0.61       547\n",
            "           1       0.76      0.93      0.84      1193\n",
            "           2       0.94      0.99      0.96        75\n",
            "           3       0.87      0.45      0.59      7400\n",
            "           4       0.85      0.95      0.89     20510\n",
            "           5       0.98      0.99      0.98      9966\n",
            "           6       0.99      1.00      0.99      6061\n",
            "           7       0.83      0.98      0.90      6048\n",
            "           8       1.00      1.00      1.00       456\n",
            "           9       0.98      0.89      0.93        47\n",
            "\n",
            "    accuracy                           0.89     52303\n",
            "   macro avg       0.92      0.86      0.87     52303\n",
            "weighted avg       0.89      0.89      0.88     52303\n",
            "\n",
            "[[  239   305     0     0     3     0     0     0     0     0]\n",
            " [    3  1106     0     3    20     2    16    43     0     0]\n",
            " [    0     0    74     0     0     0     0     0     0     1]\n",
            " [    0     7     0  3309  3495    18     4   565     2     0]\n",
            " [    0     3     0   466 19443   102    50   446     0     0]\n",
            " [    0     0     0     2     4  9830     0   130     0     0]\n",
            " [    0     1     0     3    10     2  6045     0     0     0]\n",
            " [    0    27     0     3    15    90     0  5913     0     0]\n",
            " [    0     0     0     0     1     0     0     0   455     0]\n",
            " [    0     0     5     0     0     0     0     0     0    42]]\n"
          ]
        }
      ]
    },
    {
      "cell_type": "markdown",
      "source": [],
      "metadata": {
        "id": "KWc6UQLpnelp"
      }
    },
    {
      "cell_type": "markdown",
      "source": [],
      "metadata": {
        "id": "EhGkeQdfneoQ"
      }
    },
    {
      "cell_type": "markdown",
      "source": [],
      "metadata": {
        "id": "P60GtYWNXfCF"
      }
    },
    {
      "cell_type": "markdown",
      "source": [],
      "metadata": {
        "id": "Hg2tlYHQXfE6"
      }
    },
    {
      "cell_type": "code",
      "source": [
        "# Step 7:\n",
        "from imblearn.ensemble import BalancedRandomForestClassifier\n",
        "clf = BalancedRandomForestClassifier(n_estimators=100)\n",
        "clf.fit(X_res, y_res)\n"
      ],
      "metadata": {
        "colab": {
          "base_uri": "https://localhost:8080/",
          "height": 198
        },
        "id": "OSLBh0o0XfOs",
        "outputId": "45dba6ce-e511-4c8d-d95f-de8f7cdd310a"
      },
      "execution_count": null,
      "outputs": [
        {
          "output_type": "stream",
          "name": "stderr",
          "text": [
            "/usr/local/lib/python3.10/dist-packages/imblearn/ensemble/_forest.py:577: FutureWarning: The default of `sampling_strategy` will change from `'auto'` to `'all'` in version 0.13. This change will follow the implementation proposed in the original paper. Set to `'all'` to silence this warning and adopt the future behaviour.\n",
            "  warn(\n",
            "/usr/local/lib/python3.10/dist-packages/imblearn/ensemble/_forest.py:589: FutureWarning: The default of `replacement` will change from `False` to `True` in version 0.13. This change will follow the implementation proposed in the original paper. Set to `True` to silence this warning and adopt the future behaviour.\n",
            "  warn(\n",
            "/usr/local/lib/python3.10/dist-packages/imblearn/ensemble/_forest.py:601: FutureWarning: The default of `bootstrap` will change from `True` to `False` in version 0.13. This change will follow the implementation proposed in the original paper. Set to `False` to silence this warning and adopt the future behaviour.\n",
            "  warn(\n"
          ]
        },
        {
          "output_type": "execute_result",
          "data": {
            "text/plain": [
              "BalancedRandomForestClassifier()"
            ],
            "text/html": [
              "<style>#sk-container-id-3 {color: black;}#sk-container-id-3 pre{padding: 0;}#sk-container-id-3 div.sk-toggleable {background-color: white;}#sk-container-id-3 label.sk-toggleable__label {cursor: pointer;display: block;width: 100%;margin-bottom: 0;padding: 0.3em;box-sizing: border-box;text-align: center;}#sk-container-id-3 label.sk-toggleable__label-arrow:before {content: \"▸\";float: left;margin-right: 0.25em;color: #696969;}#sk-container-id-3 label.sk-toggleable__label-arrow:hover:before {color: black;}#sk-container-id-3 div.sk-estimator:hover label.sk-toggleable__label-arrow:before {color: black;}#sk-container-id-3 div.sk-toggleable__content {max-height: 0;max-width: 0;overflow: hidden;text-align: left;background-color: #f0f8ff;}#sk-container-id-3 div.sk-toggleable__content pre {margin: 0.2em;color: black;border-radius: 0.25em;background-color: #f0f8ff;}#sk-container-id-3 input.sk-toggleable__control:checked~div.sk-toggleable__content {max-height: 200px;max-width: 100%;overflow: auto;}#sk-container-id-3 input.sk-toggleable__control:checked~label.sk-toggleable__label-arrow:before {content: \"▾\";}#sk-container-id-3 div.sk-estimator input.sk-toggleable__control:checked~label.sk-toggleable__label {background-color: #d4ebff;}#sk-container-id-3 div.sk-label input.sk-toggleable__control:checked~label.sk-toggleable__label {background-color: #d4ebff;}#sk-container-id-3 input.sk-hidden--visually {border: 0;clip: rect(1px 1px 1px 1px);clip: rect(1px, 1px, 1px, 1px);height: 1px;margin: -1px;overflow: hidden;padding: 0;position: absolute;width: 1px;}#sk-container-id-3 div.sk-estimator {font-family: monospace;background-color: #f0f8ff;border: 1px dotted black;border-radius: 0.25em;box-sizing: border-box;margin-bottom: 0.5em;}#sk-container-id-3 div.sk-estimator:hover {background-color: #d4ebff;}#sk-container-id-3 div.sk-parallel-item::after {content: \"\";width: 100%;border-bottom: 1px solid gray;flex-grow: 1;}#sk-container-id-3 div.sk-label:hover label.sk-toggleable__label {background-color: #d4ebff;}#sk-container-id-3 div.sk-serial::before {content: \"\";position: absolute;border-left: 1px solid gray;box-sizing: border-box;top: 0;bottom: 0;left: 50%;z-index: 0;}#sk-container-id-3 div.sk-serial {display: flex;flex-direction: column;align-items: center;background-color: white;padding-right: 0.2em;padding-left: 0.2em;position: relative;}#sk-container-id-3 div.sk-item {position: relative;z-index: 1;}#sk-container-id-3 div.sk-parallel {display: flex;align-items: stretch;justify-content: center;background-color: white;position: relative;}#sk-container-id-3 div.sk-item::before, #sk-container-id-3 div.sk-parallel-item::before {content: \"\";position: absolute;border-left: 1px solid gray;box-sizing: border-box;top: 0;bottom: 0;left: 50%;z-index: -1;}#sk-container-id-3 div.sk-parallel-item {display: flex;flex-direction: column;z-index: 1;position: relative;background-color: white;}#sk-container-id-3 div.sk-parallel-item:first-child::after {align-self: flex-end;width: 50%;}#sk-container-id-3 div.sk-parallel-item:last-child::after {align-self: flex-start;width: 50%;}#sk-container-id-3 div.sk-parallel-item:only-child::after {width: 0;}#sk-container-id-3 div.sk-dashed-wrapped {border: 1px dashed gray;margin: 0 0.4em 0.5em 0.4em;box-sizing: border-box;padding-bottom: 0.4em;background-color: white;}#sk-container-id-3 div.sk-label label {font-family: monospace;font-weight: bold;display: inline-block;line-height: 1.2em;}#sk-container-id-3 div.sk-label-container {text-align: center;}#sk-container-id-3 div.sk-container {/* jupyter's `normalize.less` sets `[hidden] { display: none; }` but bootstrap.min.css set `[hidden] { display: none !important; }` so we also need the `!important` here to be able to override the default hidden behavior on the sphinx rendered scikit-learn.org. See: https://github.com/scikit-learn/scikit-learn/issues/21755 */display: inline-block !important;position: relative;}#sk-container-id-3 div.sk-text-repr-fallback {display: none;}</style><div id=\"sk-container-id-3\" class=\"sk-top-container\"><div class=\"sk-text-repr-fallback\"><pre>BalancedRandomForestClassifier()</pre><b>In a Jupyter environment, please rerun this cell to show the HTML representation or trust the notebook. <br />On GitHub, the HTML representation is unable to render, please try loading this page with nbviewer.org.</b></div><div class=\"sk-container\" hidden><div class=\"sk-item\"><div class=\"sk-estimator sk-toggleable\"><input class=\"sk-toggleable__control sk-hidden--visually\" id=\"sk-estimator-id-3\" type=\"checkbox\" checked><label for=\"sk-estimator-id-3\" class=\"sk-toggleable__label sk-toggleable__label-arrow\">BalancedRandomForestClassifier</label><div class=\"sk-toggleable__content\"><pre>BalancedRandomForestClassifier()</pre></div></div></div></div></div>"
            ]
          },
          "metadata": {},
          "execution_count": 41
        }
      ]
    },
    {
      "cell_type": "code",
      "source": [
        "# Step 8: Model Evaluation\n",
        "y_pred = xgb.predict(X_test)\n",
        "\n",
        "# Classification report and confusion matrix\n",
        "print(\"Classification Report:\\n\", classification_report(y_test, y_pred))\n",
        "print(\"Confusion Matrix:\\n\", confusion_matrix(y_test, y_pred))\n"
      ],
      "metadata": {
        "colab": {
          "base_uri": "https://localhost:8080/"
        },
        "id": "ZpzhrDqcXfRy",
        "outputId": "b25f7b65-6857-4ddc-af13-8c31b1cd1d50"
      },
      "execution_count": null,
      "outputs": [
        {
          "output_type": "stream",
          "name": "stdout",
          "text": [
            "Classification Report:\n",
            "               precision    recall  f1-score   support\n",
            "\n",
            "           0       0.99      0.44      0.61       547\n",
            "           1       0.76      0.93      0.84      1193\n",
            "           2       0.94      0.99      0.96        75\n",
            "           3       0.87      0.45      0.59      7400\n",
            "           4       0.85      0.95      0.89     20510\n",
            "           5       0.98      0.99      0.98      9966\n",
            "           6       0.99      1.00      0.99      6061\n",
            "           7       0.83      0.98      0.90      6048\n",
            "           8       1.00      1.00      1.00       456\n",
            "           9       0.98      0.89      0.93        47\n",
            "\n",
            "    accuracy                           0.89     52303\n",
            "   macro avg       0.92      0.86      0.87     52303\n",
            "weighted avg       0.89      0.89      0.88     52303\n",
            "\n",
            "Confusion Matrix:\n",
            " [[  239   305     0     0     3     0     0     0     0     0]\n",
            " [    3  1106     0     3    20     2    16    43     0     0]\n",
            " [    0     0    74     0     0     0     0     0     0     1]\n",
            " [    0     7     0  3309  3495    18     4   565     2     0]\n",
            " [    0     3     0   466 19443   102    50   446     0     0]\n",
            " [    0     0     0     2     4  9830     0   130     0     0]\n",
            " [    0     1     0     3    10     2  6045     0     0     0]\n",
            " [    0    27     0     3    15    90     0  5913     0     0]\n",
            " [    0     0     0     0     1     0     0     0   455     0]\n",
            " [    0     0     5     0     0     0     0     0     0    42]]\n"
          ]
        }
      ]
    }
  ]
}